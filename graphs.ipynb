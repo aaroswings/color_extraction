{
 "cells": [
  {
   "cell_type": "code",
   "execution_count": 2,
   "metadata": {},
   "outputs": [],
   "source": [
    "from PIL import Image\n",
    "import numpy as np\n",
    "import matplotlib.pyplot as plt\n",
    "from mpl_toolkits import mplot3d'\n",
    "%matplotlib"
   ]
  },
  {
   "cell_type": "code",
   "execution_count": null,
   "metadata": {},
   "outputs": [],
   "source": [
    "def plot_rgb_colors():\n",
    "    cdata = []\n",
    "    for r in np.linspace(0, 1.0, 20):\n",
    "        for g in np.linspace(0, 1.0, 20):\n",
    "            for b in np.linspace(0, 1.0, 20):\n",
    "                cdata.append([r, g, b])\n",
    "\n",
    "    cdata = np.array(cdata)\n",
    "    xdata = cdata[:, 0]\n",
    "    ydata = cdata[:, 1]\n",
    "    zdata = cdata[:, 2]\n",
    "    ax = plt.axes(projection='3d')\n",
    "    ax.set_xlabel('red')\n",
    "    ax.xaxis.label.set_color('red') \n",
    "    ax.set_ylabel('green')\n",
    "    ax.yaxis.label.set_color('green') \n",
    "    ax.set_zlabel('blue')\n",
    "    ax.zaxis.label.set_color('blue') \n",
    "\n",
    "    ax.scatter3D(xdata, ydata, zdata, color=cdata)\n",
    "    ax.set_aspect('auto', adjustable='box', anchor='C')\n",
    "    plt.draw()\n",
    "\n",
    "plot_rgb_colors()"
   ]
  },
  {
   "cell_type": "code",
   "execution_count": 35,
   "metadata": {},
   "outputs": [],
   "source": [
    "im = Image.open('assets/lena_std.tif').convert('RGB')\n",
    "\n",
    "def plot_image_colors(image: Image.Image):\n",
    "    image = image.resize((64, 64))\n",
    "\n",
    "    ax = plt.axes(projection='3d')\n",
    "    arr = np.array(image).astype(np.float32)\n",
    "    xdata = arr[:, :, 0].reshape(-1, 1)\n",
    "    ydata = arr[:, :, 1].reshape(-1, 1)\n",
    "    zdata = arr[:, :, 2].reshape(-1, 1)\n",
    "    cdata = arr.reshape(-1, 3) / 255.\n",
    "\n",
    "    ax.set_xlabel('red')\n",
    "    ax.xaxis.label.set_color('red') \n",
    "    ax.set_ylabel('green')\n",
    "    ax.yaxis.label.set_color('green') \n",
    "    ax.set_zlabel('blue')\n",
    "    ax.zaxis.label.set_color('blue') \n",
    "\n",
    "    ax.scatter3D(xdata, ydata, zdata, color=cdata)\n",
    "    ax.set_aspect('auto', adjustable='box', anchor='C')\n",
    "    plt.draw()\n",
    "\n",
    "plot_image_colors(im)\n"
   ]
  }
 ],
 "metadata": {
  "kernelspec": {
   "display_name": "base",
   "language": "python",
   "name": "python3"
  },
  "language_info": {
   "codemirror_mode": {
    "name": "ipython",
    "version": 3
   },
   "file_extension": ".py",
   "mimetype": "text/x-python",
   "name": "python",
   "nbconvert_exporter": "python",
   "pygments_lexer": "ipython3",
   "version": "3.9.5"
  },
  "orig_nbformat": 4
 },
 "nbformat": 4,
 "nbformat_minor": 2
}
